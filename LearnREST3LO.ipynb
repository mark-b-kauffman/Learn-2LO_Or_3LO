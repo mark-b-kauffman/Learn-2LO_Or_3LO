{
 "cells": [
  {
   "cell_type": "code",
   "execution_count": null,
   "id": "f0d5f304-e278-44c4-be66-6b2071f13354",
   "metadata": {},
   "outputs": [],
   "source": [
    "#This cell demonstrates a 2 Legged-Oauth call to Blackboard Learn\n",
    "try:\n",
    "    import Config\n",
    "except ModuleNotFoundError:\n",
    "    print(\"Config module not found. Did you copy Config_template.py to Config.py and set values?\")\n",
    "print(\"hello\")\n",
    "from bbrest import BbRest\n",
    "bb = BbRest(Config.config['key'], Config.config['secret'], Config.config['url'])\n",
    "bbexp = bb.expiration()\n",
    "print(bbexp)\n",
    "r = bb.GetUser(userId='mkauffman-student')\n",
    "print (r.json())\n",
    "print (\"\\n\")\n",
    "r = await bb.call('GetUser', userId='userName:mkauffman')\n",
    "print(r.json())"
   ]
  },
  {
   "cell_type": "code",
   "execution_count": null,
   "id": "ccdc4877-4853-4543-b581-8f68b43a3c93",
   "metadata": {},
   "outputs": [
    {
     "name": "stdout",
     "output_type": "stream",
     "text": [
      "in 45 minutes\n",
      " * Serving Flask app '__main__'\n",
      " * Debug mode: off\n"
     ]
    },
    {
     "name": "stderr",
     "output_type": "stream",
     "text": [
      "\u001b[31m\u001b[1mWARNING: This is a development server. Do not use it in a production deployment. Use a production WSGI server instead.\u001b[0m\n",
      " * Running on http://127.0.0.1:5310\n",
      "\u001b[33mPress CTRL+C to quit\u001b[0m\n",
      "127.0.0.1 - - [29/Feb/2024 11:08:27] \"GET / HTTP/1.1\" 200 -\n",
      "127.0.0.1 - - [29/Feb/2024 11:08:27] \"\u001b[33mGET /favicon.ico HTTP/1.1\u001b[0m\" 404 -\n"
     ]
    }
   ],
   "source": [
    "# This cell demonstrates a Flask Application that makes 3 Legged-Oauth calls to Blackboard Learn.\n",
    "# Notice how the Config and the import of BbRest to bb in the prior cell are available in this cell.\n",
    "from flask import Flask\n",
    "\n",
    "try:\n",
    "    import Config\n",
    "except ModuleNotFoundError:\n",
    "    print(\"Config module not found. Did you copy Config_template.py to Config.py and set values?\")\n",
    "\n",
    "\n",
    "from bbrest import BbRest\n",
    "bb = BbRest(Config.config['key'], Config.config['secret'], Config.config['url'])\n",
    "bbexp = bb.expiration()\n",
    "print(bbexp)\n",
    "\n",
    "app = Flask(__name__)\n",
    "\n",
    "@app.route('/')\n",
    "def hello_world():\n",
    "    return 'Hello, 3LO world!'\n",
    "\n",
    "@app.route('/courses')\n",
    "def users():\n",
    "    r = bb.GetCourses()\n",
    "    return(r.json())\n",
    "\n",
    "if __name__ == '__main__':\n",
    "    app.run(port=5310)"
   ]
  },
  {
   "cell_type": "code",
   "execution_count": null,
   "id": "ec58dd79-52f7-4ce9-a022-6ae4ecd95dec",
   "metadata": {},
   "outputs": [],
   "source": []
  }
 ],
 "metadata": {
  "kernelspec": {
   "display_name": "Python 3 (ipykernel)",
   "language": "python",
   "name": "python3"
  },
  "language_info": {
   "codemirror_mode": {
    "name": "ipython",
    "version": 3
   },
   "file_extension": ".py",
   "mimetype": "text/x-python",
   "name": "python",
   "nbconvert_exporter": "python",
   "pygments_lexer": "ipython3",
   "version": "3.10.9"
  }
 },
 "nbformat": 4,
 "nbformat_minor": 5
}
