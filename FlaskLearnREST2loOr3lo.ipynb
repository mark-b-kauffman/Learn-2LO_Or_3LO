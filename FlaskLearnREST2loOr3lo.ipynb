{
 "cells": [
  {
   "cell_type": "code",
   "execution_count": 6,
   "id": "1e39a4ad-ad9b-4886-9d87-1dec9cbccf2b",
   "metadata": {},
   "outputs": [
    {
     "name": "stdout",
     "output_type": "stream",
     "text": [
      "in 21 minutes\n",
      " * Serving Flask app '__main__'\n",
      " * Debug mode: off\n"
     ]
    },
    {
     "name": "stderr",
     "output_type": "stream",
     "text": [
      "\u001b[31m\u001b[1mWARNING: This is a development server. Do not use it in a production deployment. Use a production WSGI server instead.\u001b[0m\n",
      " * Running on http://127.0.0.1:5000\n",
      "\u001b[33mPress CTRL+C to quit\u001b[0m\n",
      "127.0.0.1 - - [21/Feb/2024 16:43:50] \"GET /users HTTP/1.1\" 200 -\n"
     ]
    }
   ],
   "source": [
    "#This cell demonstrates a simple Flask app that makes a REST call to Learn.\n",
    "from bbrest import BbRest\n",
    "import Config\n",
    "from flask import Flask\n",
    "\n",
    "bb = BbRest(Config.config['key'], Config.config['secret'], Config.config['url'])\n",
    "bbexp = bb.expiration()\n",
    "print(bbexp)\n",
    "\n",
    "app = Flask(__name__)\n",
    "\n",
    "@app.route('/')\n",
    "def hello_world():\n",
    "    return 'Hello, world!'\n",
    "\n",
    "@app.route('/users')\n",
    "def users():\n",
    "    r = bb.GetUsers()\n",
    "    return(r.json())\n",
    "\n",
    "if __name__ == '__main__':\n",
    "    app.run()"
   ]
  },
  {
   "cell_type": "code",
   "execution_count": 1,
   "id": "405d8817-0af2-498a-9f3d-37fe23295bcb",
   "metadata": {},
   "outputs": [
    {
     "name": "stdout",
     "output_type": "stream",
     "text": [
      "hello\n"
     ]
    }
   ],
   "source": [
    "print(\"hello\")"
   ]
  },
  {
   "cell_type": "raw",
   "id": "6fa26f7c-5c0d-4e8f-8260-9eed4adc7b47",
   "metadata": {},
   "source": []
  },
  {
   "cell_type": "code",
   "execution_count": 2,
   "id": "97fd4778-63e5-4ebb-9f8f-860ea653bc08",
   "metadata": {
    "scrolled": true
   },
   "outputs": [
    {
     "name": "stdout",
     "output_type": "stream",
     "text": [
      "hello\n",
      "in 25 minutes\n",
      "{'id': '_7_1', 'uuid': '4cdad5559fb84f44beeb889e0093b1c8', 'externalId': 'mkauffman-student', 'dataSourceId': '_2_1', 'userName': 'mkauffman-student', 'studentId': 'mkauffman-student', 'educationLevel': 'Unknown', 'gender': 'Unknown', 'created': '2024-01-09T16:31:34.745Z', 'modified': '2024-01-09T22:24:42.951Z', 'lastLogin': '2024-01-09T22:24:42.949Z', 'institutionRoleIds': ['STUDENT'], 'systemRoleIds': ['User'], 'availability': {'available': 'Yes'}, 'name': {'given': 'Mark (Student)', 'family': 'Kauffman', 'preferredDisplayName': 'GivenName'}, 'contact': {'email': 'markkauffman2000@gmail.com'}, 'avatar': {'viewUrl': 'https://kauffmantest390082.ddns.net/learn/api/public/v1/users/_7_1/avatar', 'source': 'Default'}}\n",
      "\n",
      "\n",
      "{'id': '_6_1', 'uuid': '038db44f29144f548e1ce2163b533cb0', 'externalId': 'mkauffman', 'dataSourceId': '_2_1', 'userName': 'mkauffman', 'studentId': 'mkauffman', 'educationLevel': 'Unknown', 'gender': 'Unknown', 'created': '2024-01-04T19:00:05.777Z', 'modified': '2024-02-19T21:09:11.135Z', 'lastLogin': '2024-02-19T21:09:11.134Z', 'institutionRoleIds': ['STUDENT'], 'systemRoleIds': ['SystemAdmin'], 'availability': {'available': 'Yes'}, 'name': {'given': 'Mark', 'family': 'Kauffman', 'preferredDisplayName': 'GivenName'}, 'contact': {'email': 'mark.kauffman@anthology.com'}, 'avatar': {'viewUrl': 'https://kauffmantest390082.ddns.net/learn/api/public/v1/users/_6_1/avatar', 'source': 'Default'}}\n"
     ]
    }
   ],
   "source": [
    "#This cell demonstrates a 2 Legged-Oauth call to Blackboard Learn\n",
    "import Config\n",
    "print(\"hello\")\n",
    "from bbrest import BbRest\n",
    "bb = BbRest(Config.config['key'], Config.config['secret'], Config.config['url'])\n",
    "bbexp = bb.expiration()\n",
    "print(bbexp)\n",
    "r = bb.GetUser(userId='mkauffman-student')\n",
    "print (r.json())\n",
    "print (\"\\n\")\n",
    "r = await bb.call('GetUser', userId='userName:mkauffman')\n",
    "print(r.json())"
   ]
  },
  {
   "cell_type": "code",
   "execution_count": 5,
   "id": "60b99949-ffe9-49ed-a57c-1585c8e53198",
   "metadata": {},
   "outputs": [
    {
     "name": "stdout",
     "output_type": "stream",
     "text": [
      " * Serving Flask app '__main__'\n",
      " * Debug mode: off\n"
     ]
    },
    {
     "name": "stderr",
     "output_type": "stream",
     "text": [
      "\u001b[31m\u001b[1mWARNING: This is a development server. Do not use it in a production deployment. Use a production WSGI server instead.\u001b[0m\n",
      " * Running on http://127.0.0.1:5000\n",
      "\u001b[33mPress CTRL+C to quit\u001b[0m\n",
      "127.0.0.1 - - [21/Feb/2024 16:43:15] \"\u001b[33mGET /users HTTP/1.1\u001b[0m\" 404 -\n",
      "127.0.0.1 - - [21/Feb/2024 16:43:20] \"GET / HTTP/1.1\" 200 -\n"
     ]
    }
   ],
   "source": [
    "#This cell demonstrates a simple Flask app.\n",
    "from flask import Flask\n",
    "app = Flask(__name__)\n",
    "\n",
    "@app.route('/')\n",
    "def hello_world():\n",
    "    return 'Hello, world!'\n",
    "\n",
    "if __name__ == '__main__':\n",
    "    app.run()\n"
   ]
  },
  {
   "cell_type": "code",
   "execution_count": null,
   "id": "ce9e9f08-b275-4a48-8565-80e71e73d3f5",
   "metadata": {},
   "outputs": [],
   "source": []
  }
 ],
 "metadata": {
  "kernelspec": {
   "display_name": "Python 3 (ipykernel)",
   "language": "python",
   "name": "python3"
  },
  "language_info": {
   "codemirror_mode": {
    "name": "ipython",
    "version": 3
   },
   "file_extension": ".py",
   "mimetype": "text/x-python",
   "name": "python",
   "nbconvert_exporter": "python",
   "pygments_lexer": "ipython3",
   "version": "3.11.2"
  }
 },
 "nbformat": 4,
 "nbformat_minor": 5
}
