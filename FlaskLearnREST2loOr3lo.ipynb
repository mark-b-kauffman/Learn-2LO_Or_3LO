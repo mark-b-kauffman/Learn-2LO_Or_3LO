{
 "cells": [
  {
   "cell_type": "code",
   "execution_count": 11,
   "id": "405d8817-0af2-498a-9f3d-37fe23295bcb",
   "metadata": {},
   "outputs": [
    {
     "name": "stdout",
     "output_type": "stream",
     "text": [
      "hello\n"
     ]
    }
   ],
   "source": [
    "print(\"hello\")"
   ]
  },
  {
   "cell_type": "code",
   "execution_count": 1,
   "id": "60b99949-ffe9-49ed-a57c-1585c8e53198",
   "metadata": {},
   "outputs": [
    {
     "name": "stdout",
     "output_type": "stream",
     "text": [
      " * Serving Flask app '__main__'\n",
      " * Debug mode: off\n"
     ]
    },
    {
     "name": "stderr",
     "output_type": "stream",
     "text": [
      "\u001b[31m\u001b[1mWARNING: This is a development server. Do not use it in a production deployment. Use a production WSGI server instead.\u001b[0m\n",
      " * Running on http://127.0.0.1:5000\n",
      "\u001b[33mPress CTRL+C to quit\u001b[0m\n",
      "127.0.0.1 - - [19/Feb/2024 11:07:55] \"GET / HTTP/1.1\" 200 -\n"
     ]
    }
   ],
   "source": [
    "from flask import Flask\n",
    "app = Flask(__name__)\n",
    "\n",
    "@app.route('/')\n",
    "def hello_world():\n",
    "    return 'Hello, world!'\n",
    "\n",
    "if __name__ == '__main__':\n",
    "    app.run()\n"
   ]
  },
  {
   "cell_type": "code",
   "execution_count": 39,
   "id": "97fd4778-63e5-4ebb-9f8f-860ea653bc08",
   "metadata": {},
   "outputs": [
    {
     "name": "stdout",
     "output_type": "stream",
     "text": [
      "hello\n",
      "in 59 minutes\n",
      "{'id': '_7_1', 'uuid': '4cdad5559fb84f44beeb889e0093b1c8', 'externalId': 'mkauffman-student', 'dataSourceId': '_2_1', 'userName': 'mkauffman-student', 'studentId': 'mkauffman-student', 'educationLevel': 'Unknown', 'gender': 'Unknown', 'created': '2024-01-09T16:31:34.745Z', 'modified': '2024-01-09T22:24:42.951Z', 'lastLogin': '2024-01-09T22:24:42.949Z', 'institutionRoleIds': ['STUDENT'], 'systemRoleIds': ['User'], 'availability': {'available': 'Yes'}, 'name': {'given': 'Mark (Student)', 'family': 'Kauffman', 'preferredDisplayName': 'GivenName'}, 'contact': {'email': 'markkauffman2000@gmail.com'}, 'avatar': {'viewUrl': 'https://kauffmantest390082.ddns.net/learn/api/public/v1/users/_7_1/avatar', 'source': 'Default'}}\n",
      "\n",
      "\n",
      "{'id': '_6_1', 'uuid': '038db44f29144f548e1ce2163b533cb0', 'externalId': 'mkauffman', 'dataSourceId': '_2_1', 'userName': 'mkauffman', 'studentId': 'mkauffman', 'educationLevel': 'Unknown', 'gender': 'Unknown', 'created': '2024-01-04T19:00:05.777Z', 'modified': '2024-02-19T21:09:11.135Z', 'lastLogin': '2024-02-19T21:09:11.134Z', 'institutionRoleIds': ['STUDENT'], 'systemRoleIds': ['SystemAdmin'], 'availability': {'available': 'Yes'}, 'name': {'given': 'Mark', 'family': 'Kauffman', 'preferredDisplayName': 'GivenName'}, 'contact': {'email': 'mark.kauffman@anthology.com'}, 'avatar': {'viewUrl': 'https://kauffmantest390082.ddns.net/learn/api/public/v1/users/_6_1/avatar', 'source': 'Default'}}\n"
     ]
    }
   ],
   "source": [
    "import Config\n",
    "print(\"hello\")\n",
    "from bbrest import BbRest\n",
    "bb = BbRest(Config.config['key'], Config.config['secret'], Config.config['url'])\n",
    "bbexp = bb.expiration()\n",
    "print(bbexp)\n",
    "r = bb.GetUser(userId='mkauffman-student')\n",
    "print (r.json())\n",
    "print (\"\\n\")\n",
    "r = await bb.call('GetUser', userId='userName:mkauffman')\n",
    "print(r.json())"
   ]
  },
  {
   "cell_type": "code",
   "execution_count": null,
   "id": "9f052bd2-8acc-4c20-9a54-25d8c7374531",
   "metadata": {},
   "outputs": [],
   "source": []
  }
 ],
 "metadata": {
  "kernelspec": {
   "display_name": "Python 3 (ipykernel)",
   "language": "python",
   "name": "python3"
  },
  "language_info": {
   "codemirror_mode": {
    "name": "ipython",
    "version": 3
   },
   "file_extension": ".py",
   "mimetype": "text/x-python",
   "name": "python",
   "nbconvert_exporter": "python",
   "pygments_lexer": "ipython3",
   "version": "3.11.2"
  }
 },
 "nbformat": 4,
 "nbformat_minor": 5
}
