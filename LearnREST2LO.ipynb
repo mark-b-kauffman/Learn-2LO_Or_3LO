{
 "cells": [
  {
   "cell_type": "code",
   "execution_count": 1,
   "id": "f0d5f304-e278-44c4-be66-6b2071f13354",
   "metadata": {},
   "outputs": [
    {
     "name": "stdout",
     "output_type": "stream",
     "text": [
      "hello\n",
      "in 59 minutes\n",
      "{'id': '_7_1', 'uuid': '4cdad5559fb84f44beeb889e0093b1c8', 'externalId': 'mkauffman-student', 'dataSourceId': '_2_1', 'userName': 'mkauffman-student', 'studentId': 'mkauffman-student', 'educationLevel': 'Unknown', 'gender': 'Unknown', 'created': '2024-01-09T16:31:34.745Z', 'modified': '2024-02-22T00:45:28.239Z', 'lastLogin': '2024-02-22T00:45:28.238Z', 'institutionRoleIds': ['STUDENT'], 'systemRoleIds': ['User'], 'availability': {'available': 'Yes'}, 'name': {'given': 'Mark (Student)', 'family': 'Kauffman', 'preferredDisplayName': 'GivenName'}, 'contact': {'email': 'markkauffman2000@gmail.com'}, 'avatar': {'viewUrl': 'https://kauffmantest390082.ddns.net/learn/api/public/v1/users/_7_1/avatar', 'source': 'Default'}}\n",
      "\n",
      "\n",
      "{'id': '_6_1', 'uuid': '038db44f29144f548e1ce2163b533cb0', 'externalId': 'mkauffman', 'dataSourceId': '_2_1', 'userName': 'mkauffman', 'studentId': 'mkauffman', 'educationLevel': 'Unknown', 'gender': 'Unknown', 'created': '2024-01-04T19:00:05.777Z', 'modified': '2024-02-26T18:02:42.136Z', 'lastLogin': '2024-02-26T18:02:42.134Z', 'institutionRoleIds': ['STUDENT'], 'systemRoleIds': ['SystemAdmin'], 'availability': {'available': 'Yes'}, 'name': {'given': 'Mark', 'family': 'Kauffman', 'preferredDisplayName': 'GivenName'}, 'contact': {'email': 'mark.kauffman@anthology.com'}, 'avatar': {'viewUrl': 'https://kauffmantest390082.ddns.net/learn/api/public/v1/users/_6_1/avatar', 'source': 'Default'}}\n"
     ]
    }
   ],
   "source": [
    "#This cell demonstrates a 2 Legged-Oauth call to Blackboard Learn\n",
    "try:\n",
    "    import Config\n",
    "except ModuleNotFoundError:\n",
    "    print(\"Config module not found. Did you copy Config_template.py to Config.py and set values?\")\n",
    "print(\"hello\")\n",
    "from bbrest import BbRest\n",
    "bb = BbRest(Config.config['key'], Config.config['secret'], Config.config['url'])\n",
    "bbexp = bb.expiration()\n",
    "print(bbexp)\n",
    "r = bb.GetUser(userId='mkauffman-student')\n",
    "print (r.json())\n",
    "print (\"\\n\")\n",
    "r = await bb.call('GetUser', userId='userName:mkauffman')\n",
    "print(r.json())"
   ]
  },
  {
   "cell_type": "code",
   "execution_count": null,
   "id": "ccdc4877-4853-4543-b581-8f68b43a3c93",
   "metadata": {},
   "outputs": [
    {
     "name": "stdout",
     "output_type": "stream",
     "text": [
      "in 58 minutes\n",
      " * Serving Flask app '__main__'\n",
      " * Debug mode: off\n"
     ]
    },
    {
     "name": "stderr",
     "output_type": "stream",
     "text": [
      "\u001b[31m\u001b[1mWARNING: This is a development server. Do not use it in a production deployment. Use a production WSGI server instead.\u001b[0m\n",
      " * Running on http://127.0.0.1:5000\n",
      "\u001b[33mPress CTRL+C to quit\u001b[0m\n",
      "127.0.0.1 - - [27/Feb/2024 16:14:53] \"GET / HTTP/1.1\" 200 -\n",
      "127.0.0.1 - - [27/Feb/2024 16:14:53] \"\u001b[33mGET /favicon.ico HTTP/1.1\u001b[0m\" 404 -\n",
      "127.0.0.1 - - [27/Feb/2024 16:14:59] \"GET /users HTTP/1.1\" 200 -\n"
     ]
    }
   ],
   "source": [
    "# This cell demonstrates a Flask Application that makes 2 Legged-Oauth calls to Blackboard Learn.\n",
    "# Notice how the Config and the import of BbRest to bb in the prior cell are available in this cell.\n",
    "from flask import Flask\n",
    "\n",
    "bb = BbRest(Config.config['key'], Config.config['secret'], Config.config['url'])\n",
    "bbexp = bb.expiration()\n",
    "print(bbexp)\n",
    "\n",
    "app = Flask(__name__)\n",
    "\n",
    "@app.route('/')\n",
    "def hello_world():\n",
    "    return 'Hello, world!'\n",
    "\n",
    "@app.route('/users')\n",
    "def users():\n",
    "    r = bb.GetUsers()\n",
    "    return(r.json())\n",
    "\n",
    "if __name__ == '__main__':\n",
    "    app.run()"
   ]
  },
  {
   "cell_type": "code",
   "execution_count": null,
   "id": "92bc09f4-4f96-4db6-a4ba-bcfa07dde499",
   "metadata": {},
   "outputs": [],
   "source": []
  }
 ],
 "metadata": {
  "kernelspec": {
   "display_name": "Python 3 (ipykernel)",
   "language": "python",
   "name": "python3"
  },
  "language_info": {
   "codemirror_mode": {
    "name": "ipython",
    "version": 3
   },
   "file_extension": ".py",
   "mimetype": "text/x-python",
   "name": "python",
   "nbconvert_exporter": "python",
   "pygments_lexer": "ipython3",
   "version": "3.10.9"
  }
 },
 "nbformat": 4,
 "nbformat_minor": 5
}
