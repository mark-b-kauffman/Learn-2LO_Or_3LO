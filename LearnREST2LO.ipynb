{
 "cells": [
  {
   "cell_type": "code",
   "execution_count": 3,
   "id": "f0d5f304-e278-44c4-be66-6b2071f13354",
   "metadata": {},
   "outputs": [
    {
     "name": "stdout",
     "output_type": "stream",
     "text": [
      "Authentication successful.\n",
      "Courses fetched successfully.\n",
      "{'id': '_13_1', 'uuid': '8171479077904a37958862a418832489', 'externalId': 'astudent', 'dataSourceId': '_2_1', 'userName': 'astudent', 'studentId': 'astudent', 'educationLevel': 'Unknown', 'gender': 'Unknown', 'created': '2024-03-01T16:28:31.359Z', 'modified': '2024-03-01T16:28:31.359Z', 'institutionRoleIds': ['STUDENT'], 'systemRoleIds': ['User'], 'availability': {'available': 'Yes'}, 'name': {'given': 'A', 'family': 'Student', 'preferredDisplayName': 'GivenName'}, 'contact': {'email': 'astudent@blackboard.com'}, 'avatar': {'viewUrl': 'https://kauffmantest390082.ddns.net/learn/api/public/v1/users/_13_1/avatar', 'source': 'Default'}}\n"
     ]
    }
   ],
   "source": [
    "#This cell demonstrates a 2 Legged-Oauth call to Blackboard Learn\n",
    "try:\n",
    "    import Config\n",
    "except ModuleNotFoundError:\n",
    "    print(\"Config module not found. Did you copy Config_template.py to Config.py and set values?\")\n",
    "\n",
    "import requests\n",
    "\n",
    "# Configuration\n",
    "KEY = Config.config['key'] #Learn doc calls this a key. Industry may ref as CLIENT_ID\n",
    "SECRET = Config.config['secret']\n",
    "BLACKBOARD_DOMAIN = Config.config['domain']\n",
    "TOKEN_URL = f'https://{BLACKBOARD_DOMAIN}/learn/api/public/v1/oauth2/token'\n",
    "USERS_URL = f'https://{BLACKBOARD_DOMAIN}/learn/api/public/v1/users/userName:astudent'\n",
    "\n",
    "def get_access_token(key, secret):\n",
    "    \"\"\"Authenticate with Blackboard Learn REST API using 2-legged OAuth.\"\"\"\n",
    "    payload = {\n",
    "        'grant_type': 'client_credentials',\n",
    "    }\n",
    "    response = requests.post(TOKEN_URL, auth=(key, secret), data=payload)\n",
    "    response.raise_for_status()  # Raises stored HTTPError, if one occurred.\n",
    "    \n",
    "    print(\"Authentication successful.\")\n",
    "    return response.json().get('access_token')\n",
    "\n",
    "def get_user(access_token, users_url):\n",
    "    \"\"\"Make a REST API call to get a user's courses.\"\"\"\n",
    "    headers = {\n",
    "        'Authorization': f'Bearer {access_token}',\n",
    "    }\n",
    "    response = requests.get(users_url, headers=headers)\n",
    "    response.raise_for_status()  # Raises stored HTTPError, if one occurred.\n",
    "    \n",
    "    return response.json()\n",
    "\n",
    "if __name__ == '__main__':\n",
    "    try:\n",
    "        # Authenticate and get access token\n",
    "        access_token = get_access_token(KEY, SECRET)\n",
    "        \n",
    "        # Use access token to get user's courses\n",
    "        user = get_user(access_token, USERS_URL)\n",
    "        \n",
    "        print(\"Courses fetched successfully.\")\n",
    "        print(user)  # You might want to format this output or handle it differently depending on your needs\n",
    "    except requests.exceptions.HTTPError as err:\n",
    "        print(f\"HTTP error occurred: {err}\")\n",
    "    except Exception as err:\n",
    "        print(f\"An error occurred: {err}\")"
   ]
  },
  {
   "cell_type": "code",
   "execution_count": null,
   "id": "ccdc4877-4853-4543-b581-8f68b43a3c93",
   "metadata": {},
   "outputs": [
    {
     "name": "stdout",
     "output_type": "stream",
     "text": [
      "Current date and time : \n",
      "2024-03-03 07:31:36\n",
      " * Serving Flask app '__main__'\n",
      " * Debug mode: off\n"
     ]
    },
    {
     "name": "stderr",
     "output_type": "stream",
     "text": [
      "\u001b[31m\u001b[1mWARNING: This is a development server. Do not use it in a production deployment. Use a production WSGI server instead.\u001b[0m\n",
      " * Running on http://127.0.0.1:5210\n",
      "\u001b[33mPress CTRL+C to quit\u001b[0m\n",
      "127.0.0.1 - - [03/Mar/2024 07:31:55] \"GET / HTTP/1.1\" 200 -\n",
      "127.0.0.1 - - [03/Mar/2024 07:31:55] \"\u001b[33mGET /favicon.ico HTTP/1.1\u001b[0m\" 404 -\n"
     ]
    },
    {
     "name": "stdout",
     "output_type": "stream",
     "text": [
      "Authentication successful.\n"
     ]
    },
    {
     "name": "stderr",
     "output_type": "stream",
     "text": [
      "127.0.0.1 - - [03/Mar/2024 07:32:02] \"GET /user HTTP/1.1\" 200 -\n"
     ]
    },
    {
     "name": "stdout",
     "output_type": "stream",
     "text": [
      "Courses fetched successfully.\n"
     ]
    }
   ],
   "source": [
    "# This cell demonstrates a Flask Application that makes 2 Legged-Oauth calls to Blackboard Learn.\n",
    "# Notice how the Config and the import of BbRest to bb in the prior cell are available in this cell.\n",
    "from flask import Flask\n",
    "#This cell demonstrates a 2 Legged-Oauth call to Blackboard Learn\n",
    "try:\n",
    "    import Config\n",
    "except ModuleNotFoundError:\n",
    "    print(\"Config module not found. Did you copy Config_template.py to Config.py and set values?\")\n",
    "\n",
    "import requests\n",
    "\n",
    "# Configuration\n",
    "KEY = Config.config['key'] #Learn doc calls this a key. Industry may ref as CLIENT_ID\n",
    "SECRET = Config.config['secret']\n",
    "BLACKBOARD_DOMAIN = Config.config['domain']\n",
    "TOKEN_URL = f'https://{BLACKBOARD_DOMAIN}/learn/api/public/v1/oauth2/token'\n",
    "USERS_URL = f'https://{BLACKBOARD_DOMAIN}/learn/api/public/v1/users/userName:astudent'\n",
    "\n",
    "# Import the 'datetime' module to work with date and time\n",
    "import datetime\n",
    "# Get the current date and time\n",
    "now = datetime.datetime.now()\n",
    "# Create a datetime object representing the current date and time\n",
    "# Display a message indicating what is being printed\n",
    "print(\"Current date and time : \")\n",
    "# Print the current date and time in a specific format\n",
    "print(now.strftime(\"%Y-%m-%d %H:%M:%S\"))\n",
    "\n",
    "def get_access_token(key, secret):\n",
    "    \"\"\"Authenticate with Blackboard Learn REST API using 2-legged OAuth.\"\"\"\n",
    "    payload = {\n",
    "        'grant_type': 'client_credentials',\n",
    "    }\n",
    "    response = requests.post(TOKEN_URL, auth=(key, secret), data=payload)\n",
    "    response.raise_for_status()  # Raises stored HTTPError, if one occurred.\n",
    "    \n",
    "    print(\"Authentication successful.\")\n",
    "    return response.json().get('access_token')\n",
    "\n",
    "def get_user(access_token, users_url):\n",
    "    \"\"\"Make a REST API call to get a user's courses.\"\"\"\n",
    "    headers = {\n",
    "        'Authorization': f'Bearer {access_token}',\n",
    "    }\n",
    "    response = requests.get(users_url, headers=headers)\n",
    "    response.raise_for_status()  # Raises stored HTTPError, if one occurred.\n",
    "    \n",
    "    return response.json()\n",
    "app = Flask(__name__)\n",
    "\n",
    "@app.route('/')\n",
    "def hello_world():\n",
    "    return 'Hello there, 2LO world!'\n",
    "\n",
    "@app.route('/user')\n",
    "def user():\n",
    "    try:\n",
    "        # Authenticate and get access token\n",
    "        access_token = get_access_token(KEY, SECRET)\n",
    "        \n",
    "        # Use access token to get user's courses\n",
    "        user = get_user(access_token, USERS_URL)\n",
    "        \n",
    "        print(\"Courses fetched successfully.\")\n",
    "        return(user)  # You might want to format this output or handle it differently depending on your needs\n",
    "    except requests.exceptions.HTTPError as err:\n",
    "        print(f\"HTTP error occurred: {err}\")\n",
    "    except Exception as err:\n",
    "        print(f\"An error occurred: {err}\")\n",
    "\n",
    "if __name__ == '__main__':\n",
    "    app.run(port=5210)"
   ]
  },
  {
   "cell_type": "code",
   "execution_count": null,
   "id": "92bc09f4-4f96-4db6-a4ba-bcfa07dde499",
   "metadata": {},
   "outputs": [],
   "source": []
  }
 ],
 "metadata": {
  "kernelspec": {
   "display_name": "Python 3 (ipykernel)",
   "language": "python",
   "name": "python3"
  },
  "language_info": {
   "codemirror_mode": {
    "name": "ipython",
    "version": 3
   },
   "file_extension": ".py",
   "mimetype": "text/x-python",
   "name": "python",
   "nbconvert_exporter": "python",
   "pygments_lexer": "ipython3",
   "version": "3.10.9"
  }
 },
 "nbformat": 4,
 "nbformat_minor": 5
}
